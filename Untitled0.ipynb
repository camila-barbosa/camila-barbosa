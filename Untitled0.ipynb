{
  "nbformat": 4,
  "nbformat_minor": 0,
  "metadata": {
    "colab": {
      "provenance": [],
      "authorship_tag": "ABX9TyPXnWAQTBKWdDNtErFw7xNI",
      "include_colab_link": true
    },
    "kernelspec": {
      "name": "python3",
      "display_name": "Python 3"
    },
    "language_info": {
      "name": "python"
    }
  },
  "cells": [
    {
      "cell_type": "markdown",
      "metadata": {
        "id": "view-in-github",
        "colab_type": "text"
      },
      "source": [
        "<a href=\"https://colab.research.google.com/github/camila-barbosa/camila-barbosa/blob/main/Untitled0.ipynb\" target=\"_parent\"><img src=\"https://colab.research.google.com/assets/colab-badge.svg\" alt=\"Open In Colab\"/></a>"
      ]
    },
    {
      "cell_type": "markdown",
      "source": [
        "Questão 01"
      ],
      "metadata": {
        "id": "LfCDgBifJsd6"
      }
    },
    {
      "cell_type": "code",
      "execution_count": null,
      "metadata": {
        "collapsed": true,
        "id": "br5X8YkpIFHq"
      },
      "outputs": [],
      "source": [
        "print ('hello world')"
      ]
    },
    {
      "cell_type": "markdown",
      "source": [
        "Questão 02"
      ],
      "metadata": {
        "id": "t4SHzcWYJwbk"
      }
    },
    {
      "cell_type": "code",
      "source": [
        "a= int (input ('escreva o primeiro número: '))\n",
        "b= int (input ('escreva o segundo número: '))\n",
        "c= int (input ('escreva o segundo número: '))\n",
        "\n",
        "média = (a+b+c)/3\n",
        "\n",
        "print (f'a média é {média}')"
      ],
      "metadata": {
        "collapsed": true,
        "id": "EibG8AP3IZej"
      },
      "execution_count": null,
      "outputs": []
    },
    {
      "cell_type": "markdown",
      "source": [
        "Questão 03"
      ],
      "metadata": {
        "id": "eVsddmELJnw3"
      }
    },
    {
      "cell_type": "code",
      "source": [
        "a= int (input ('escreva o primeiro número: '))\n",
        "b= int (input ('escreva o segundo número: '))\n",
        "c= int (input ('escreva o segundo número: '))\n",
        "\n",
        "aux = a\n",
        "a = b\n",
        "b = c\n",
        "c = aux\n",
        "\n",
        "print (f'o valor de a é {a}')\n",
        "print (f'o valor de b é {b}')\n",
        "print (f'o valor de c é {c}')"
      ],
      "metadata": {
        "id": "fiNROHVEJmFX"
      },
      "execution_count": null,
      "outputs": []
    },
    {
      "cell_type": "markdown",
      "source": [
        "Questão 4"
      ],
      "metadata": {
        "id": "Vi53819QLQr_"
      }
    },
    {
      "cell_type": "code",
      "source": [
        "def adicao(x, y):\n",
        "    return x + y\n",
        "\n",
        "def subtracao(x, y):\n",
        "    return x - y\n",
        "\n",
        "def multiplicacao(x, y):\n",
        "    return x * y\n",
        "\n",
        "def divisao(x, y):\n",
        "    if y == 0:\n",
        "        return \"Erro: divisão por zero!\"\n",
        "    return x / y\n",
        "\n",
        "print(\"Selecione a operação:\")\n",
        "print(\" 1.Adição \")\n",
        "print(\" 2.Subtração \")\n",
        "print(\" 3.Multiplicação \")\n",
        "print(\" 4.Divisão \")\n",
        "\n",
        "escolha = input(\"Digite qual operação deseja realizar ( 1, 2, 3 ou 4):\")\n",
        "\n",
        "num1 = float(input(\"Digite o primeiro número: \"))\n",
        "num2 = float(input(\"Digite o segundo número: \"))\n",
        "\n",
        "if escolha == '1':\n",
        "    resultado = adicao(num1, num2)\n",
        "    print(f\"{num1} + {num2} = {resultado}\")\n",
        "elif escolha == '2':\n",
        "    resultado = subtracao(num1, num2)\n",
        "    print(f\"{num1} - {num2} = {resultado}\")\n",
        "elif escolha == '3':\n",
        "    resultado = multiplicacao(num1, num2)\n",
        "    print(f\"{num1} * {num2} = {resultado}\")\n",
        "elif escolha == '4':\n",
        "    resultado = divisao(num1, num2)\n",
        "    print(f\"{num1} / {num2} = {resultado}\")\n",
        "else:\n",
        "    print(\"Operação inválida!\")\n"
      ],
      "metadata": {
        "id": "cNdGT4rXLSSf"
      },
      "execution_count": null,
      "outputs": []
    },
    {
      "cell_type": "markdown",
      "source": [
        "Questão 05\n"
      ],
      "metadata": {
        "id": "g9Oi9HQWib1e"
      }
    },
    {
      "cell_type": "code",
      "source": [
        "ListaDeNúmeros = []\n",
        "\n",
        "for x in range(10):\n",
        "  numero = int (input(f\"digite o {x+1}º número: \"))\n",
        "  ListaDeNúmeros.append (numero)\n",
        "  print (\"os números digitados foram:  \")\n",
        "  print (ListaDeNúmeros)"
      ],
      "metadata": {
        "id": "ZyhanX9nOiXX"
      },
      "execution_count": null,
      "outputs": []
    },
    {
      "cell_type": "markdown",
      "source": [
        "Questão 06"
      ],
      "metadata": {
        "id": "LPE6elzynsBu"
      }
    },
    {
      "cell_type": "code",
      "source": [
        "ListaDeNúmeros = []\n",
        "\n",
        "for x in range(10):\n",
        "  numero = int (input(f\"digite o {x+1}º número: \"))\n",
        "  ListaDeNúmeros.append (numero)\n",
        "  maior_valor = max(ListaDeNúmeros)\n",
        "  menor_valor = min(ListaDeNúmeros)\n",
        "  media = sum(ListaDeNúmeros) / len(ListaDeNúmeros)\n",
        "  print(f\"O maior valor é: {maior_valor}\")\n",
        "  print(f\"O menor valor é: {menor_valor}\")\n",
        "  print(f\"A média dos valores é: {media: .2f}\")"
      ],
      "metadata": {
        "id": "JFfBilVjnyeS"
      },
      "execution_count": null,
      "outputs": []
    },
    {
      "cell_type": "markdown",
      "source": [
        "Questão 07"
      ],
      "metadata": {
        "id": "Nk_AXWs_LsQl"
      }
    },
    {
      "cell_type": "code",
      "source": [
        "Nomes = []\n",
        "for x in range (10):\n",
        "  print (f\"Digite os dados do {x+1}º aluno: \")\n",
        "  nome = input (\"Nome: \")\n",
        "  nota1 = float(input(\"Nota 1: \"))\n",
        "  nota2 = float(input(\"Nota 2: \"))\n",
        "  nota3 = float(input(\"Nota 3: \"))\n",
        "  nota4 = float(input(\"Nota 4: \"))\n",
        "  #dicionário para organização dos dados:\n",
        "  aluno = {\n",
        "      \"nome\": nome,\n",
        "      \"nota1\": nota1,\n",
        "      \"nota2\": nota2,\n",
        "      \"nota3\": nota3,\n",
        "      \"nota4\": nota4\n",
        "  }\n",
        "  Nomes.append (aluno)\n",
        "for aluno in Nomes:\n",
        "  print (\"\\nNome:\", aluno [\"nome\"])\n",
        "  print (\"Nota 1:\", aluno [\"nota1\"])\n",
        "  print (\"Nota 2:\", aluno [\"nota2\"])\n",
        "  print (\"Nota 3:\", aluno [\"nota3\"])\n",
        "  print (\"Nota 4:\", aluno [\"nota4\"])"
      ],
      "metadata": {
        "id": "OkKxmuabLvy-"
      },
      "execution_count": null,
      "outputs": []
    }
  ]
}